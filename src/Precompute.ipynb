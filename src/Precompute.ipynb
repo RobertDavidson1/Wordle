{
 "cells": [
  {
   "cell_type": "code",
   "execution_count": 2,
   "metadata": {},
   "outputs": [],
   "source": [
    "guesses_file = \"../data/allowed_guesses.txt\"\n",
    "with open(guesses_file, \"r\") as fhand:\n",
    "    actions = [word.strip() for word in fhand]\n",
    "\n",
    "answers_file = \"../data/allowed_answers.txt\"\n",
    "with open(answers_file, \"r\") as fhand:\n",
    "    state = [word.strip() for word in fhand]"
   ]
  },
  {
   "cell_type": "code",
   "execution_count": 16,
   "metadata": {},
   "outputs": [],
   "source": [
    "def get_coloring(action, solution):\n",
    "\n",
    "    result = ['-'] * len(action)  # Start with all white\n",
    "    solution_counts = {}\n",
    "\n",
    "    # Count occurrences of each character in the solution\n",
    "    for char in solution:\n",
    "        if char in solution_counts:\n",
    "            solution_counts[char] += 1\n",
    "        else:\n",
    "            solution_counts[char] = 1\n",
    "\n",
    "    # First pass: mark greens and reduce counts for correct letters\n",
    "    for i in range(len(action)):\n",
    "        if action[i] == solution[i]:\n",
    "            result[i] = 'g'\n",
    "            solution_counts[action[i]] -= 1\n",
    "\n",
    "    # Second pass: mark yellows, ensuring not to exceed the available count of each character\n",
    "    for i in range(len(action)):\n",
    "        if result[i] == '0':  # Only check for yellow if it's not already green\n",
    "            char = action[i]\n",
    "            if char in solution_counts and solution_counts[char] > 0:\n",
    "                result[i] = 'y'\n",
    "                solution_counts[char] -= 1\n",
    "\n",
    "    return ''.join(result)\n",
    "\n"
   ]
  },
  {
   "cell_type": "code",
   "execution_count": 17,
   "metadata": {},
   "outputs": [
    {
     "name": "stderr",
     "output_type": "stream",
     "text": [
      "100%|██████████| 14858/14858 [01:27<00:00, 170.15it/s]\n"
     ]
    }
   ],
   "source": [
    "from tqdm import tqdm\n",
    "import json\n",
    "\n",
    "actions_hashmap = {}\n",
    "for word in tqdm(actions):\n",
    "    action = [word]\n",
    "    colourings = {}\n",
    "    for solution in state:\n",
    "        colouring = get_coloring(action = word, solution=solution)\n",
    "        colourings[solution] = colouring\n",
    "        \n",
    "        \n",
    "    actions_hashmap[word] = colourings\n",
    "\n",
    "\n",
    "\n",
    "try:\n",
    "    with open(\"data.json\", 'w') as file:\n",
    "        json.dump(actions_hashmap, file, indent=4)\n",
    "except IOError as e:\n",
    "    print(f\"File writing error: {e}\")"
   ]
  }
 ],
 "metadata": {
  "kernelspec": {
   "display_name": "Python 3",
   "language": "python",
   "name": "python3"
  },
  "language_info": {
   "codemirror_mode": {
    "name": "ipython",
    "version": 3
   },
   "file_extension": ".py",
   "mimetype": "text/x-python",
   "name": "python",
   "nbconvert_exporter": "python",
   "pygments_lexer": "ipython3",
   "version": "3.11.2"
  }
 },
 "nbformat": 4,
 "nbformat_minor": 2
}

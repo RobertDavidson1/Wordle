{
 "cells": [
  {
   "cell_type": "code",
   "execution_count": 3,
   "metadata": {},
   "outputs": [],
   "source": [
    "import sys\n",
    "sys.path.append('../src/')"
   ]
  },
  {
   "cell_type": "code",
   "execution_count": 4,
   "metadata": {},
   "outputs": [],
   "source": [
    "from helpers import load_colouring, load_words, get_transition_info\n",
    "import matplotlib.pyplot as plt\n",
    "import numpy as np\n",
    "import seaborn as sns\n",
    "\n",
    "actions = load_words(\"../data/allowed_guesses.txt\")\n",
    "answers = load_words(\"../data/allowed_answers.txt\")\n",
    "state = tuple(answers)\n",
    "colouring_data = load_colouring()"
   ]
  },
  {
   "cell_type": "code",
   "execution_count": 21,
   "metadata": {},
   "outputs": [
    {
     "data": {
      "text/plain": [
       "18"
      ]
     },
     "execution_count": 21,
     "metadata": {},
     "output_type": "execute_result"
    }
   ],
   "source": [
    "num_next_states = {}\n",
    "for action in actions:\n",
    "        next_states = get_transition_info(state, action, colouring_data)\n",
    "        num_next_states[action] = len(next_states.keys())\n",
    "\n"
   ]
  },
  {
   "cell_type": "code",
   "execution_count": 25,
   "metadata": {},
   "outputs": [
    {
     "name": "stdout",
     "output_type": "stream",
     "text": [
      "Minimum word = qajaq\n",
      "Max word = tares\n"
     ]
    }
   ],
   "source": [
    "min_value = min(num_next_states.values())\n",
    "min_key = list(num_next_states.keys())[list(num_next_states.values()).index(min_value)]\n",
    "\n",
    "max_value = max(num_next_states.values())\n",
    "max_key = list(num_next_states.keys())[list(num_next_states.values()).index(max_value)]\n",
    "\n",
    "print(f\"Minimum word = {min_key}\")\n",
    "print(f\"Max word = {max_key}\")"
   ]
  }
 ],
 "metadata": {
  "kernelspec": {
   "display_name": "Python 3",
   "language": "python",
   "name": "python3"
  },
  "language_info": {
   "codemirror_mode": {
    "name": "ipython",
    "version": 3
   },
   "file_extension": ".py",
   "mimetype": "text/x-python",
   "name": "python",
   "nbconvert_exporter": "python",
   "pygments_lexer": "ipython3",
   "version": "3.12.4"
  }
 },
 "nbformat": 4,
 "nbformat_minor": 2
}

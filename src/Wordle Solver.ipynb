{
 "cells": [
  {
   "cell_type": "code",
   "execution_count": 26,
   "metadata": {},
   "outputs": [],
   "source": [
    "import json"
   ]
  },
  {
   "cell_type": "code",
   "execution_count": 27,
   "metadata": {},
   "outputs": [],
   "source": [
    "guesses_file = \"../data/allowed_guesses.txt\"\n",
    "with open(guesses_file, \"r\") as fhand:\n",
    "    actions = [word.strip() for word in fhand]\n",
    "    actions = tuple(actions)\n",
    "    \n",
    "    \n",
    "# Load the JSON data\n",
    "with open(\"../data/precompute.json\", \"r\") as file:\n",
    "    colouring_data = json.load(file)\n",
    "\n",
    "\n",
    "def get_transition_info(state, action):\n",
    "    new_state = {}\n",
    "    for word in state:\n",
    "        colouring = colouring_data[action][word] \n",
    "    \n",
    "        if colouring not in new_state:\n",
    "            new_state[colouring] = [word]\n",
    "        else:\n",
    "            new_state[colouring].append(word)\n",
    "        \n",
    "    transition_info = {tuple(states): (len(states) / len(state)) for states in new_state.values()}\n",
    "\n",
    "    \n",
    "    return transition_info\n"
   ]
  },
  {
   "cell_type": "code",
   "execution_count": 28,
   "metadata": {},
   "outputs": [],
   "source": [
    "state = (\"bacon\", \"baggy\", \"banjo\", \"baron\", \"bawdy\", \"bayou\", \"cabby\", \"cabin\", \"cacao\", \"caddy\", \"cairn\", \"candy\", \"canny\", \"canon\", \"cargo\", \"carry\", \"daddy\", \"dairy\", \"dandy\", \"fairy\", \"fancy\", \"fanny\", \"fauna\", \"favor\", \"gamma\", \"gaudy\", \"gawky\", \"hairy\", \"handy\", \"happy\", \"hardy\", \"harpy\", \"harry\", \"havoc\", \"jazzy\", \"kappa\", \"karma\", \"kayak\", \"macaw\", \"macho\", \"macro\", \"madam\", \"mafia\", \"magic\", \"magma\", \"major\", \"mambo\", \"mamma\", \"mammy\", \"manga\", \"mango\", \"mangy\", \"mania\", \"manic\", \"manor\", \"march\", \"marry\", \"maxim\", \"mayor\", \"nadir\", \"nanny\", \"paddy\", \"pagan\", \"panic\", \"parka\", \"parry\", \"rabbi\", \"rabid\", \"radar\", \"radii\", \"radio\", \"rainy\", \"rajah\", \"ranch\", \"randy\", \"rapid\", \"rayon\", \"razor\", \"vapid\", \"vapor\", \"wacky\", \"wagon\")\n"
   ]
  },
  {
   "cell_type": "code",
   "execution_count": 29,
   "metadata": {},
   "outputs": [],
   "source": [
    "def get_transition_info(state : list, action : str):# -> dict[tuple, float]:# -> dict[tuple, float]:\n",
    "    new_state = {}\n",
    "    for word in state:\n",
    "        colouring = colouring_data[action][word] \n",
    "    \n",
    "        if colouring not in new_state:\n",
    "            new_state[colouring] = [word]\n",
    "        else:\n",
    "            new_state[colouring].append(word)\n",
    "        \n",
    "    transition_info = {tuple(states): (len(states) / len(state)) for states in new_state.values()}\n",
    "\n",
    "    \n",
    "    return transition_info\n"
   ]
  },
  {
   "cell_type": "code",
   "execution_count": 30,
   "metadata": {},
   "outputs": [
    {
     "data": {
      "text/plain": [
       "{('skate',): 0.1111111111111111,\n",
       " ('stage', 'stare', 'stave'): 0.3333333333333333,\n",
       " ('stake',): 0.1111111111111111,\n",
       " ('state',): 0.1111111111111111,\n",
       " ('stead', 'steam'): 0.2222222222222222,\n",
       " ('steak',): 0.1111111111111111}"
      ]
     },
     "execution_count": 30,
     "metadata": {},
     "output_type": "execute_result"
    }
   ],
   "source": [
    "state = tuple([\"skate\", \"stage\", \"stake\", \"stare\", \"state\", \"stave\", \"stead\", \"steak\", \"steam\"])\n",
    "action = \"skate\"\n",
    "get_transition_info(state, action)"
   ]
  },
  {
   "cell_type": "code",
   "execution_count": 31,
   "metadata": {},
   "outputs": [],
   "source": [
    "def value_function(t, state, actions, v_mem={}):# -> Any | tuple[float, None] | tuple[Literal[1], Any] | tuple...:\n",
    "    if (t, state) in v_mem:\n",
    "        return v_mem[(t, state)]\n",
    "    \n",
    "    if t >= 6 or (t == 5 and len(state) > 1):\n",
    "        return (float(\"inf\"), None)\n",
    "    if t == 5 or len(state) == 1:\n",
    "        return (1, state)\n",
    "    elif len(state) == 2:\n",
    "        return (1.5, state[0])\n",
    "\n",
    "    state_value = float('inf')\n",
    "    best_word = None\n",
    "\n",
    "    combined = state + actions\n",
    "    \n",
    "    for action in combined:\n",
    "        if t == 1:\n",
    "            print(f\"Searching for best word: {combined.index(action) / len(combined): .3%}, Current word = {action}\")\n",
    "    \n",
    "        \n",
    "        transition_info = get_transition_info(state, action)\n",
    "        temp = 1\n",
    "        \n",
    "        if len(transition_info.keys()) == 1 and tuple(transition_info.keys())[0] == state:\n",
    "            continue\n",
    "        \n",
    "        temp += (2 * len(state) - 1) / len(state)\n",
    "\n",
    "        for st1 in transition_info.keys():\n",
    "            \n",
    "            if temp >= state_value:\n",
    "                break\n",
    "            elif st1 == action:\n",
    "                continue\n",
    "            \n",
    "            res, _ = value_function(t + 1, state=st1, actions=actions)\n",
    "            temp += transition_info[st1] * res\n",
    "\n",
    "        if temp < state_value:\n",
    "            state_value = temp\n",
    "            best_word = action\n",
    "    \n",
    "    v_mem[(t, state)] = (state_value, best_word)\n",
    "    return state_value, best_word"
   ]
  },
  {
   "cell_type": "code",
   "execution_count": 32,
   "metadata": {},
   "outputs": [],
   "source": [
    "import os\n",
    "import pickle"
   ]
  },
  {
   "cell_type": "code",
   "execution_count": 33,
   "metadata": {},
   "outputs": [],
   "source": [
    "def load_v_mem(file_path):\n",
    "    if os.path.exists(file_path):\n",
    "        with open(file_path, 'rb') as file:\n",
    "            v_mem = pickle.load(file)\n",
    "        return v_mem\n",
    "    else:\n",
    "        print(f\"The file {file_path} does not exist.\")\n",
    "        return {}"
   ]
  },
  {
   "cell_type": "code",
   "execution_count": 34,
   "metadata": {},
   "outputs": [],
   "source": [
    "def execute_and_save(t, state, actions, v_mem):\n",
    "    result = value_function(t, state, actions, v_mem)\n",
    "    \n",
    "    # Save v_mem to a file\n",
    "    with open('v_mem.pkl', 'wb') as file:\n",
    "        pickle.dump(v_mem, file)\n",
    "    \n",
    "    return result"
   ]
  },
  {
   "cell_type": "code",
   "execution_count": 35,
   "metadata": {},
   "outputs": [],
   "source": [
    "def process_actions(t, state, actions, v_mem):\n",
    "    execute_and_save(t, state, actions, v_mem)"
   ]
  },
  {
   "cell_type": "code",
   "execution_count": 36,
   "metadata": {},
   "outputs": [
    {
     "name": "stdout",
     "output_type": "stream",
     "text": [
      "The file v_mem.pkl does not exist.\n",
      "Searching for best word:  0.000%, Current word = belch\n",
      "Searching for best word:  0.007%, Current word = belie\n",
      "Searching for best word:  0.013%, Current word = belle\n",
      "Searching for best word:  0.020%, Current word = belly\n",
      "Searching for best word:  0.027%, Current word = below\n",
      "Searching for best word:  0.034%, Current word = bilge\n",
      "Searching for best word:  0.040%, Current word = bulge\n",
      "Searching for best word:  0.047%, Current word = cello\n",
      "Searching for best word:  0.054%, Current word = delve\n",
      "Searching for best word:  0.061%, Current word = felon\n",
      "Searching for best word:  0.067%, Current word = helix\n",
      "Searching for best word:  0.074%, Current word = hello\n",
      "Searching for best word:  0.081%, Current word = jelly\n",
      "Searching for best word:  0.087%, Current word = melon\n",
      "Searching for best word:  0.094%, Current word = relic\n",
      "Searching for best word:  0.101%, Current word = welch\n",
      "Searching for best word:  0.108%, Current word = aahed\n",
      "Searching for best word:  0.114%, Current word = aalii\n"
     ]
    },
    {
     "ename": "KeyboardInterrupt",
     "evalue": "",
     "output_type": "error",
     "traceback": [
      "\u001b[1;31m---------------------------------------------------------------------------\u001b[0m",
      "\u001b[1;31mKeyboardInterrupt\u001b[0m                         Traceback (most recent call last)",
      "Cell \u001b[1;32mIn[36], line 4\u001b[0m\n\u001b[0;32m      2\u001b[0m v_mem \u001b[38;5;241m=\u001b[39m load_v_mem(file_path)\n\u001b[0;32m      3\u001b[0m state \u001b[38;5;241m=\u001b[39m (\u001b[38;5;124m\"\u001b[39m\u001b[38;5;124mbelch\u001b[39m\u001b[38;5;124m\"\u001b[39m, \u001b[38;5;124m\"\u001b[39m\u001b[38;5;124mbelie\u001b[39m\u001b[38;5;124m\"\u001b[39m, \u001b[38;5;124m\"\u001b[39m\u001b[38;5;124mbelle\u001b[39m\u001b[38;5;124m\"\u001b[39m, \u001b[38;5;124m\"\u001b[39m\u001b[38;5;124mbelly\u001b[39m\u001b[38;5;124m\"\u001b[39m, \u001b[38;5;124m\"\u001b[39m\u001b[38;5;124mbelow\u001b[39m\u001b[38;5;124m\"\u001b[39m, \u001b[38;5;124m\"\u001b[39m\u001b[38;5;124mbilge\u001b[39m\u001b[38;5;124m\"\u001b[39m, \u001b[38;5;124m\"\u001b[39m\u001b[38;5;124mbulge\u001b[39m\u001b[38;5;124m\"\u001b[39m, \u001b[38;5;124m\"\u001b[39m\u001b[38;5;124mcello\u001b[39m\u001b[38;5;124m\"\u001b[39m, \u001b[38;5;124m\"\u001b[39m\u001b[38;5;124mdelve\u001b[39m\u001b[38;5;124m\"\u001b[39m, \u001b[38;5;124m\"\u001b[39m\u001b[38;5;124mfelon\u001b[39m\u001b[38;5;124m\"\u001b[39m, \u001b[38;5;124m\"\u001b[39m\u001b[38;5;124mhelix\u001b[39m\u001b[38;5;124m\"\u001b[39m, \u001b[38;5;124m\"\u001b[39m\u001b[38;5;124mhello\u001b[39m\u001b[38;5;124m\"\u001b[39m, \u001b[38;5;124m\"\u001b[39m\u001b[38;5;124mjelly\u001b[39m\u001b[38;5;124m\"\u001b[39m, \u001b[38;5;124m\"\u001b[39m\u001b[38;5;124mmelon\u001b[39m\u001b[38;5;124m\"\u001b[39m, \u001b[38;5;124m\"\u001b[39m\u001b[38;5;124mrelic\u001b[39m\u001b[38;5;124m\"\u001b[39m, \u001b[38;5;124m\"\u001b[39m\u001b[38;5;124mwelch\u001b[39m\u001b[38;5;124m\"\u001b[39m)\n\u001b[1;32m----> 4\u001b[0m \u001b[43mprocess_actions\u001b[49m\u001b[43m(\u001b[49m\u001b[38;5;241;43m1\u001b[39;49m\u001b[43m,\u001b[49m\u001b[43m \u001b[49m\u001b[43mstate\u001b[49m\u001b[43m,\u001b[49m\u001b[43m \u001b[49m\u001b[43mactions\u001b[49m\u001b[43m,\u001b[49m\u001b[43m \u001b[49m\u001b[43mv_mem\u001b[49m\u001b[43m)\u001b[49m\n",
      "Cell \u001b[1;32mIn[35], line 2\u001b[0m, in \u001b[0;36mprocess_actions\u001b[1;34m(t, state, actions, v_mem)\u001b[0m\n\u001b[0;32m      1\u001b[0m \u001b[38;5;28;01mdef\u001b[39;00m \u001b[38;5;21mprocess_actions\u001b[39m(t, state, actions, v_mem):\n\u001b[1;32m----> 2\u001b[0m     \u001b[43mexecute_and_save\u001b[49m\u001b[43m(\u001b[49m\u001b[43mt\u001b[49m\u001b[43m,\u001b[49m\u001b[43m \u001b[49m\u001b[43mstate\u001b[49m\u001b[43m,\u001b[49m\u001b[43m \u001b[49m\u001b[43mactions\u001b[49m\u001b[43m,\u001b[49m\u001b[43m \u001b[49m\u001b[43mv_mem\u001b[49m\u001b[43m)\u001b[49m\n",
      "Cell \u001b[1;32mIn[34], line 2\u001b[0m, in \u001b[0;36mexecute_and_save\u001b[1;34m(t, state, actions, v_mem)\u001b[0m\n\u001b[0;32m      1\u001b[0m \u001b[38;5;28;01mdef\u001b[39;00m \u001b[38;5;21mexecute_and_save\u001b[39m(t, state, actions, v_mem):\n\u001b[1;32m----> 2\u001b[0m     result \u001b[38;5;241m=\u001b[39m \u001b[43mvalue_function\u001b[49m\u001b[43m(\u001b[49m\u001b[43mt\u001b[49m\u001b[43m,\u001b[49m\u001b[43m \u001b[49m\u001b[43mstate\u001b[49m\u001b[43m,\u001b[49m\u001b[43m \u001b[49m\u001b[43mactions\u001b[49m\u001b[43m,\u001b[49m\u001b[43m \u001b[49m\u001b[43mv_mem\u001b[49m\u001b[43m)\u001b[49m\n\u001b[0;32m      4\u001b[0m     \u001b[38;5;66;03m# Save v_mem to a file\u001b[39;00m\n\u001b[0;32m      5\u001b[0m     \u001b[38;5;28;01mwith\u001b[39;00m \u001b[38;5;28mopen\u001b[39m(\u001b[38;5;124m'\u001b[39m\u001b[38;5;124mv_mem.pkl\u001b[39m\u001b[38;5;124m'\u001b[39m, \u001b[38;5;124m'\u001b[39m\u001b[38;5;124mwb\u001b[39m\u001b[38;5;124m'\u001b[39m) \u001b[38;5;28;01mas\u001b[39;00m file:\n",
      "Cell \u001b[1;32mIn[31], line 37\u001b[0m, in \u001b[0;36mvalue_function\u001b[1;34m(t, state, actions, v_mem)\u001b[0m\n\u001b[0;32m     34\u001b[0m     \u001b[38;5;28;01melif\u001b[39;00m st1 \u001b[38;5;241m==\u001b[39m action:\n\u001b[0;32m     35\u001b[0m         \u001b[38;5;28;01mcontinue\u001b[39;00m\n\u001b[1;32m---> 37\u001b[0m     res, _ \u001b[38;5;241m=\u001b[39m \u001b[43mvalue_function\u001b[49m\u001b[43m(\u001b[49m\u001b[43mt\u001b[49m\u001b[43m \u001b[49m\u001b[38;5;241;43m+\u001b[39;49m\u001b[43m \u001b[49m\u001b[38;5;241;43m1\u001b[39;49m\u001b[43m,\u001b[49m\u001b[43m \u001b[49m\u001b[43mstate\u001b[49m\u001b[38;5;241;43m=\u001b[39;49m\u001b[43mst1\u001b[49m\u001b[43m,\u001b[49m\u001b[43m \u001b[49m\u001b[43mactions\u001b[49m\u001b[38;5;241;43m=\u001b[39;49m\u001b[43mactions\u001b[49m\u001b[43m)\u001b[49m\n\u001b[0;32m     38\u001b[0m     temp \u001b[38;5;241m+\u001b[39m\u001b[38;5;241m=\u001b[39m transition_info[st1] \u001b[38;5;241m*\u001b[39m res\n\u001b[0;32m     40\u001b[0m \u001b[38;5;28;01mif\u001b[39;00m temp \u001b[38;5;241m<\u001b[39m state_value:\n",
      "Cell \u001b[1;32mIn[31], line 37\u001b[0m, in \u001b[0;36mvalue_function\u001b[1;34m(t, state, actions, v_mem)\u001b[0m\n\u001b[0;32m     34\u001b[0m     \u001b[38;5;28;01melif\u001b[39;00m st1 \u001b[38;5;241m==\u001b[39m action:\n\u001b[0;32m     35\u001b[0m         \u001b[38;5;28;01mcontinue\u001b[39;00m\n\u001b[1;32m---> 37\u001b[0m     res, _ \u001b[38;5;241m=\u001b[39m \u001b[43mvalue_function\u001b[49m\u001b[43m(\u001b[49m\u001b[43mt\u001b[49m\u001b[43m \u001b[49m\u001b[38;5;241;43m+\u001b[39;49m\u001b[43m \u001b[49m\u001b[38;5;241;43m1\u001b[39;49m\u001b[43m,\u001b[49m\u001b[43m \u001b[49m\u001b[43mstate\u001b[49m\u001b[38;5;241;43m=\u001b[39;49m\u001b[43mst1\u001b[49m\u001b[43m,\u001b[49m\u001b[43m \u001b[49m\u001b[43mactions\u001b[49m\u001b[38;5;241;43m=\u001b[39;49m\u001b[43mactions\u001b[49m\u001b[43m)\u001b[49m\n\u001b[0;32m     38\u001b[0m     temp \u001b[38;5;241m+\u001b[39m\u001b[38;5;241m=\u001b[39m transition_info[st1] \u001b[38;5;241m*\u001b[39m res\n\u001b[0;32m     40\u001b[0m \u001b[38;5;28;01mif\u001b[39;00m temp \u001b[38;5;241m<\u001b[39m state_value:\n",
      "Cell \u001b[1;32mIn[31], line 37\u001b[0m, in \u001b[0;36mvalue_function\u001b[1;34m(t, state, actions, v_mem)\u001b[0m\n\u001b[0;32m     34\u001b[0m     \u001b[38;5;28;01melif\u001b[39;00m st1 \u001b[38;5;241m==\u001b[39m action:\n\u001b[0;32m     35\u001b[0m         \u001b[38;5;28;01mcontinue\u001b[39;00m\n\u001b[1;32m---> 37\u001b[0m     res, _ \u001b[38;5;241m=\u001b[39m \u001b[43mvalue_function\u001b[49m\u001b[43m(\u001b[49m\u001b[43mt\u001b[49m\u001b[43m \u001b[49m\u001b[38;5;241;43m+\u001b[39;49m\u001b[43m \u001b[49m\u001b[38;5;241;43m1\u001b[39;49m\u001b[43m,\u001b[49m\u001b[43m \u001b[49m\u001b[43mstate\u001b[49m\u001b[38;5;241;43m=\u001b[39;49m\u001b[43mst1\u001b[49m\u001b[43m,\u001b[49m\u001b[43m \u001b[49m\u001b[43mactions\u001b[49m\u001b[38;5;241;43m=\u001b[39;49m\u001b[43mactions\u001b[49m\u001b[43m)\u001b[49m\n\u001b[0;32m     38\u001b[0m     temp \u001b[38;5;241m+\u001b[39m\u001b[38;5;241m=\u001b[39m transition_info[st1] \u001b[38;5;241m*\u001b[39m res\n\u001b[0;32m     40\u001b[0m \u001b[38;5;28;01mif\u001b[39;00m temp \u001b[38;5;241m<\u001b[39m state_value:\n",
      "Cell \u001b[1;32mIn[31], line 30\u001b[0m, in \u001b[0;36mvalue_function\u001b[1;34m(t, state, actions, v_mem)\u001b[0m\n\u001b[0;32m     26\u001b[0m     \u001b[38;5;28;01mcontinue\u001b[39;00m\n\u001b[0;32m     28\u001b[0m temp \u001b[38;5;241m+\u001b[39m\u001b[38;5;241m=\u001b[39m (\u001b[38;5;241m2\u001b[39m \u001b[38;5;241m*\u001b[39m \u001b[38;5;28mlen\u001b[39m(state) \u001b[38;5;241m-\u001b[39m \u001b[38;5;241m1\u001b[39m) \u001b[38;5;241m/\u001b[39m \u001b[38;5;28mlen\u001b[39m(state)\n\u001b[1;32m---> 30\u001b[0m \u001b[38;5;28;01mfor\u001b[39;00m st1 \u001b[38;5;129;01min\u001b[39;00m transition_info\u001b[38;5;241m.\u001b[39mkeys():\n\u001b[0;32m     32\u001b[0m     \u001b[38;5;28;01mif\u001b[39;00m temp \u001b[38;5;241m>\u001b[39m\u001b[38;5;241m=\u001b[39m state_value:\n\u001b[0;32m     33\u001b[0m         \u001b[38;5;28;01mbreak\u001b[39;00m\n",
      "\u001b[1;31mKeyboardInterrupt\u001b[0m: "
     ]
    }
   ],
   "source": [
    "file_path = 'v_mem.pkl'\n",
    "v_mem = load_v_mem(file_path)\n",
    "state = (\"belch\", \"belie\", \"belle\", \"belly\", \"below\", \"bilge\", \"bulge\", \"cello\", \"delve\", \"felon\", \"helix\", \"hello\", \"jelly\", \"melon\", \"relic\", \"welch\")\n",
    "process_actions(1, state, actions, v_mem)"
   ]
  },
  {
   "cell_type": "code",
   "execution_count": 38,
   "metadata": {},
   "outputs": [
    {
     "ename": "KeyError",
     "evalue": "(1, ('belch', 'belie', 'belle', 'belly', 'below', 'bilge', 'bulge', 'cello', 'delve', 'felon', 'helix', 'hello', 'jelly', 'melon', 'relic', 'welch'))",
     "output_type": "error",
     "traceback": [
      "\u001b[1;31m---------------------------------------------------------------------------\u001b[0m",
      "\u001b[1;31mKeyError\u001b[0m                                  Traceback (most recent call last)",
      "Cell \u001b[1;32mIn[38], line 1\u001b[0m\n\u001b[1;32m----> 1\u001b[0m score, word \u001b[38;5;241m=\u001b[39m \u001b[43mv_mem\u001b[49m\u001b[43m[\u001b[49m\u001b[43m(\u001b[49m\u001b[38;5;241;43m1\u001b[39;49m\u001b[43m,\u001b[49m\u001b[43m(\u001b[49m\u001b[43mstate\u001b[49m\u001b[43m)\u001b[49m\u001b[43m)\u001b[49m\u001b[43m]\u001b[49m\n\u001b[0;32m      2\u001b[0m \u001b[38;5;28mprint\u001b[39m(\u001b[38;5;124mf\u001b[39m\u001b[38;5;124m\"\u001b[39m\u001b[38;5;124mBest word: \u001b[39m\u001b[38;5;132;01m{\u001b[39;00mword\u001b[38;5;132;01m}\u001b[39;00m\u001b[38;5;124m (\u001b[39m\u001b[38;5;132;01m{\u001b[39;00mscore\u001b[38;5;132;01m}\u001b[39;00m\u001b[38;5;124m)\u001b[39m\u001b[38;5;124m\"\u001b[39m)\n",
      "\u001b[1;31mKeyError\u001b[0m: (1, ('belch', 'belie', 'belle', 'belly', 'below', 'bilge', 'bulge', 'cello', 'delve', 'felon', 'helix', 'hello', 'jelly', 'melon', 'relic', 'welch'))"
     ]
    }
   ],
   "source": [
    "score, word = v_mem[(1,(state))]\n",
    "print(f\"Best word: {word} ({score})\")"
   ]
  },
  {
   "cell_type": "code",
   "execution_count": null,
   "metadata": {},
   "outputs": [
    {
     "data": {
      "text/plain": [
       "{('abyss', 'amiss'): 0.11764705882352941,\n",
       " ('amass',): 0.058823529411764705,\n",
       " ('arson',): 0.058823529411764705,\n",
       " ('assay',): 0.058823529411764705,\n",
       " ('awash', 'quash', 'quasi'): 0.17647058823529413,\n",
       " ('brash',): 0.058823529411764705,\n",
       " ('brass',): 0.058823529411764705,\n",
       " ('chaos',): 0.058823529411764705,\n",
       " ('chasm',): 0.058823529411764705,\n",
       " ('crash',): 0.058823529411764705,\n",
       " ('crass',): 0.058823529411764705,\n",
       " ('gnash',): 0.058823529411764705,\n",
       " ('grasp',): 0.058823529411764705,\n",
       " ('grass',): 0.058823529411764705}"
      ]
     },
     "execution_count": 19,
     "metadata": {},
     "output_type": "execute_result"
    }
   ],
   "source": [
    "get_transition_info(state, 'crags')"
   ]
  },
  {
   "cell_type": "code",
   "execution_count": null,
   "metadata": {},
   "outputs": [
    {
     "data": {
      "text/plain": [
       "{('abyss',): 0.058823529411764705,\n",
       " ('amass', 'amiss'): 0.11764705882352941,\n",
       " ('arson',): 0.058823529411764705,\n",
       " ('assay',): 0.058823529411764705,\n",
       " ('awash',): 0.058823529411764705,\n",
       " ('brash',): 0.058823529411764705,\n",
       " ('brass',): 0.058823529411764705,\n",
       " ('chaos',): 0.058823529411764705,\n",
       " ('chasm', 'crash', 'gnash', 'grasp', 'quash', 'quasi'): 0.35294117647058826,\n",
       " ('crass', 'grass'): 0.11764705882352941}"
      ]
     },
     "execution_count": 23,
     "metadata": {},
     "output_type": "execute_result"
    }
   ],
   "source": [
    "get_transition_info(state, 'abyss')"
   ]
  },
  {
   "cell_type": "code",
   "execution_count": null,
   "metadata": {},
   "outputs": [
    {
     "data": {
      "text/plain": [
       "{('skate', 'stage', 'stake', 'stare', 'state', 'stave'): 0.6666666666666666,\n",
       " ('stead', 'steak', 'steam'): 0.3333333333333333}"
      ]
     },
     "execution_count": 15,
     "metadata": {},
     "output_type": "execute_result"
    }
   ],
   "source": [
    "get_transition_info(state, 'abuse')"
   ]
  }
 ],
 "metadata": {
  "kernelspec": {
   "display_name": "Python 3",
   "language": "python",
   "name": "python3"
  },
  "language_info": {
   "codemirror_mode": {
    "name": "ipython",
    "version": 3
   },
   "file_extension": ".py",
   "mimetype": "text/x-python",
   "name": "python",
   "nbconvert_exporter": "python",
   "pygments_lexer": "ipython3",
   "version": "3.11.2"
  }
 },
 "nbformat": 4,
 "nbformat_minor": 2
}

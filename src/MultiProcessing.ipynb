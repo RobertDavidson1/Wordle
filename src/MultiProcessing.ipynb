{
 "cells": [
  {
   "cell_type": "markdown",
   "metadata": {},
   "source": [
    "Import allowed guesses and precomputed colouring data\n"
   ]
  },
  {
   "cell_type": "code",
   "execution_count": 1,
   "metadata": {},
   "outputs": [],
   "source": [
    "with open(\"../data/allowed_guesses.txt\", \"r\") as fhand:\n",
    "    actions = [word.strip() for word in fhand]\n",
    "    actions = tuple(actions)\n",
    "\n",
    "import json\n",
    "with open(\"../data/precompute.json\", \"r\") as file:\n",
    "    colouring_data = json.load(file)"
   ]
  },
  {
   "cell_type": "code",
   "execution_count": 2,
   "metadata": {},
   "outputs": [],
   "source": [
    "def get_transition_info(state, action):\n",
    "    new_state = {}\n",
    "    for word in state:\n",
    "        colouring = colouring_data[action][word] \n",
    "        if colouring not in new_state:\n",
    "            new_state[colouring] = [word]\n",
    "        else:\n",
    "            new_state[colouring].append(word)\n",
    "    transition_info = {tuple(states): (len(states) / len(state)) for states in new_state.values()}\n",
    "    return transition_info"
   ]
  },
  {
   "cell_type": "code",
   "execution_count": 3,
   "metadata": {},
   "outputs": [],
   "source": [
    "def value_function(t, state, actions, v_mem={}):\n",
    "    if (t, state) in v_mem:\n",
    "        return v_mem[(t, state)]\n",
    "    \n",
    "    if t >= 6 or (t == 5 and len(state) > 1):\n",
    "        return (float(\"inf\"), None)\n",
    "    if t == 5 or len(state) == 1:\n",
    "        return (1, (state))\n",
    "    elif len(state) == 2:\n",
    "        return (1.5, (state)[0])\n",
    "\n",
    "    state_value = float('inf')\n",
    "    best_word = None\n",
    "    \n",
    "    for action in actions:\n",
    "        if t == 1:\n",
    "            print(f\"Searching for best word: {actions.index(action) / len(actions): .3%}, Current word = {action}\")\n",
    "    \n",
    "        \n",
    "        transition_info = get_transition_info(state, action)\n",
    "        temp = 1\n",
    "        \n",
    "        if len(transition_info.keys()) == 1 and tuple(transition_info.keys())[0] == state:\n",
    "            continue\n",
    "        \n",
    "        temp += (2 * len(state) - 1) / len(state)\n",
    "\n",
    "        for st1 in transition_info.keys():\n",
    "            \n",
    "            if temp >= state_value:\n",
    "                break\n",
    "            elif st1 == action:\n",
    "                continue\n",
    "            \n",
    "            res, _ = value_function(t + 1, state=st1, actions=actions)\n",
    "            temp += transition_info[st1] * res\n",
    "\n",
    "        if temp < state_value:\n",
    "            state_value = temp\n",
    "            best_word = action\n",
    "    \n",
    "    v_mem[(t, state)] = (state_value, best_word)\n",
    "    return state_value, best_word"
   ]
  },
  {
   "cell_type": "code",
   "execution_count": 4,
   "metadata": {},
   "outputs": [],
   "source": [
    "import os\n",
    "import pickle\n",
    "def load_v_mem(file_path = \"v_mem.pkl\") -> dict:\n",
    "    if os.path.exists(file_path):\n",
    "        with open(file_path, 'rb') as file:\n",
    "            v_mem = pickle.load(file)\n",
    "        return v_mem\n",
    "    else:\n",
    "        print(f\"The file {file_path} does not exist.\")\n",
    "        return {}\n",
    "    \n"
   ]
  },
  {
   "cell_type": "code",
   "execution_count": 5,
   "metadata": {},
   "outputs": [],
   "source": [
    "def execute_and_save(t, state, actions, v_mem):\n",
    "    result = value_function(t, state, actions, v_mem)\n",
    "    \n",
    "    with open('v_mem.pkl', 'wb') as file:\n",
    "        pickle.dump(v_mem, file)\n",
    "    \n",
    "    return result"
   ]
  },
  {
   "cell_type": "code",
   "execution_count": 6,
   "metadata": {},
   "outputs": [
    {
     "name": "stdout",
     "output_type": "stream",
     "text": [
      "The file v_mem.pkl does not exist.\n"
     ]
    }
   ],
   "source": [
    "v_mem = load_v_mem(\"v_mem.pkl\")"
   ]
  },
  {
   "cell_type": "code",
   "execution_count": 7,
   "metadata": {},
   "outputs": [],
   "source": [
    "def value_function_wrapper(args):\n",
    "    t, state, actions = args\n",
    "    print(f\"Starting process for t = {t}, state = {state} actions = {actions}\")\n",
    "    return value_function(t, state, actions)"
   ]
  },
  {
   "cell_type": "code",
   "execution_count": 18,
   "metadata": {},
   "outputs": [],
   "source": [
    "import multiprocessing as mp\n",
    "\n",
    "\n",
    "state = (\"delay\", \"fella\", \"relax\", \"relay\")\n",
    "actions = state + actions\n",
    "\n",
    "# Get the number of available CPUs, with a max of 6\n",
    "max_cpu = 1\n",
    "cpu_count = min(max_cpu, mp.cpu_count())\n",
    "\n",
    "\n",
    "\n",
    "\n",
    "# Split the actions into cpu_count chunks\n",
    "num_chunks = cpu_count \n",
    "chunk_size = len(actions) / num_chunks \n",
    "indices = [int(i * chunk_size) for i in range(num_chunks + 1)] \n",
    "chunks = [actions[indices[i]:indices[i + 1]] for i in range(len(indices) - 1)]\n",
    "\n",
    "\n",
    "# Prepare the arguments for each process\n",
    "tasks = [(0, state, chunk) for chunk in chunks]\n",
    "\n",
    "# Create a pool of processes\n",
    "with mp.Pool(cpu_count) as pool:\n",
    "    results = pool.map(value_function_wrapper, tasks)\n",
    "\n",
    "\n"
   ]
  }
 ],
 "metadata": {
  "kernelspec": {
   "display_name": "Python 3",
   "language": "python",
   "name": "python3"
  },
  "language_info": {
   "codemirror_mode": {
    "name": "ipython",
    "version": 3
   },
   "file_extension": ".py",
   "mimetype": "text/x-python",
   "name": "python",
   "nbconvert_exporter": "python",
   "pygments_lexer": "ipython3",
   "version": "3.11.2"
  }
 },
 "nbformat": 4,
 "nbformat_minor": 2
}
